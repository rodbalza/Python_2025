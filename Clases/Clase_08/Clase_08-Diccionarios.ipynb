{
  "cells": [
    {
      "cell_type": "markdown",
      "metadata": {
        "id": "PcQIW4KgFbc5"
      },
      "source": [
        "# Clase 08 - Diccionarios en Python 🐍\n"
      ]
    },
    {
      "cell_type": "markdown",
      "metadata": {
        "id": "uMoq_iC_Fbc6"
      },
      "source": [
        "## 1. Diccionarios: Clave-Valor, Acceso, Inserción y Eliminación"
      ]
    },
    {
      "cell_type": "markdown",
      "metadata": {
        "id": "l4S-E1JoFbc6"
      },
      "source": [
        "### Definición\n",
        "\n",
        "Un diccionario es una colección de elementos que, a diferencia de las listas o tuplas, no se almacenan en un orden secuencial, sino que cada elemento tiene una **clave** única y un **valor** asociado. Piensa en un diccionario real: buscas una palabra (la clave) para encontrar su definición (el valor). En Python, los diccionarios nos permiten almacenar información de forma lógica y acceder a ella de manera muy eficiente."
      ]
    },
    {
      "cell_type": "markdown",
      "metadata": {
        "id": "93I34QKpFbc6"
      },
      "source": [
        "### Propiedades y Características\n",
        "\n",
        "- **Mutables**: Podemos modificar, añadir o eliminar elementos después de su creación.\n",
        "- **Dinámicos**: Pueden crecer o decrecer en tamaño según lo necesitemos.\n",
        "- **Claves únicas e inmutables**: No puede haber dos claves iguales en un mismo diccionario. Además, las claves deben ser de un tipo de dato inmutable (como strings, números o tuplas).\n",
        "- **Ordenados (a partir de Python 3.7)**: Desde esta versión, los diccionarios recuerdan el orden en que se insertaron los elementos. En versiones anteriores, eran desordenados."
      ]
    },
    {
      "cell_type": "markdown",
      "metadata": {
        "id": "k1KF3xfYFbc6"
      },
      "source": [
        "### Sintaxis\n",
        "\n",
        "Se crean utilizando llaves `{}` y separando cada par clave-valor con dos puntos (`:`).\n",
        "\n",
        "```python\n",
        "# Creación de un diccionario\n",
        "mi_diccionario = {\n",
        "    \"clave1\": \"valor1\",\n",
        "    \"clave2\": \"valor2\",\n",
        "    \"clave3\": \"valor3\"\n",
        "}\n",
        "\n",
        "# Creación de un diccionario vacío\n",
        "diccionario_vacio = {}\n",
        "otro_vacio = dict()\n",
        "```"
      ]
    },
    {
      "cell_type": "markdown",
      "metadata": {
        "id": "69zg49smFbc7"
      },
      "source": [
        "### Ejemplos Resueltos"
      ]
    },
    {
      "cell_type": "code",
      "execution_count": null,
      "metadata": {
        "id": "bR1DkQ6kFbc7"
      },
      "outputs": [],
      "source": [
        "# 1. Creación y acceso a un diccionario\n",
        "estudiante = {\n",
        "    \"nombre\": \"Ana\",\n",
        "    \"edad\": 22,\n",
        "    \"curso\": \"Inteligencia Artificial\",\n",
        "    \"es_becado\": True\n",
        "}\n",
        "\n",
        "print(f\"Diccionario original: {estudiante}\")\n",
        "\n",
        "# Accedemos al valor asociado a la clave 'nombre'\n",
        "nombre_estudiante = estudiante[\"nombre\"]\n",
        "print(f\"El nombre del estudiante es: {nombre_estudiante}\")\n",
        "\n",
        "# ---\n",
        "\n",
        "# 2. Inserción y Modificación de elementos\n",
        "\n",
        "# Añadimos un nuevo par clave-valor para la universidad\n",
        "estudiante[\"universidad\"] = \"Universidad Politécnica\"\n",
        "print(f\"Diccionario con nueva clave: {estudiante}\")\n",
        "\n",
        "# Modificamos un valor existente. Ana ha cumplido años.\n",
        "estudiante[\"edad\"] = 23\n",
        "print(f\"Diccionario con edad actualizada: {estudiante}\")\n",
        "\n",
        "# ---\n",
        "\n",
        "# 3. Eliminación de elementos\n",
        "\n",
        "# Usamos la palabra clave 'del' para eliminar el par con la clave 'es_becado'\n",
        "del estudiante[\"es_becado\"]\n",
        "print(f\"Diccionario tras eliminar una clave: {estudiante}\")"
      ]
    },
    {
      "cell_type": "markdown",
      "metadata": {
        "id": "2v0Z5ABWFbc8"
      },
      "source": [
        "### Ejercicios Propuestos\n",
        "\n",
        "1.  **Crear un diccionario** llamado `mi_coche` que almacene la siguiente información: `marca` (string), `modelo` (string), `año` (integer) y `color` (string).\n",
        "2.  **Acceder y mostrar** por pantalla el modelo del coche.\n",
        "3.  **Añadir una nueva clave** llamada `kilometraje` con un valor numérico.\n",
        "4.  **Actualizar el valor** de la clave `color` a un nuevo color que te guste.\n",
        "5.  **Eliminar la clave** `año` del diccionario."
      ]
    },
    {
      "cell_type": "markdown",
      "metadata": {
        "id": "bUuqmhupFbc8"
      },
      "source": [
        "---"
      ]
    },
    {
      "cell_type": "markdown",
      "metadata": {
        "id": "tRXwTc8JFbc8"
      },
      "source": [
        "## 2. Métodos de Diccionarios\n",
        "\n",
        "Los diccionarios vienen con métodos integrados que nos facilitan mucho el trabajo. Veamos los más importantes."
      ]
    },
    {
      "cell_type": "markdown",
      "metadata": {
        "id": "fC-L-VprFbc8"
      },
      "source": [
        "### `.keys()`\n",
        "Devuelve un objeto `dict_keys` que contiene todas las claves del diccionario. Es muy útil para iterar sobre ellas."
      ]
    },
    {
      "cell_type": "markdown",
      "metadata": {
        "id": "7dLWznpDFbc8"
      },
      "source": [
        "#### Sintaxis\n",
        "```python\n",
        "diccionario.keys()\n",
        "```"
      ]
    },
    {
      "cell_type": "code",
      "execution_count": null,
      "metadata": {
        "id": "yhgLpD-0Fbc9"
      },
      "outputs": [],
      "source": [
        "configuracion = {\n",
        "    \"idioma\": \"español\",\n",
        "    \"tema\": \"oscuro\",\n",
        "    \"notificaciones\": True\n",
        "}\n",
        "\n",
        "claves = configuracion.keys()\n",
        "print(f\"Claves del diccionario: {claves}\")\n",
        "\n",
        "# Podemos convertirlo a lista si necesitamos\n",
        "lista_claves = list(claves)\n",
        "print(f\"Claves como lista: {lista_claves}\")"
      ]
    },
    {
      "cell_type": "markdown",
      "metadata": {
        "id": "i2w7fuXpFbc9"
      },
      "source": [
        "#### Ejercicio Propuesto\n",
        "\n",
        "-   Dado un diccionario `producto = {\"nombre\": \"Laptop\", \"precio\": 1200, \"stock\": 45}`, obtén y muestra por pantalla todas sus claves."
      ]
    },
    {
      "cell_type": "markdown",
      "metadata": {
        "id": "5pMnkqmhFbc9"
      },
      "source": [
        "### `.values()`\n",
        "Devuelve un objeto `dict_values` con todos los valores del diccionario."
      ]
    },
    {
      "cell_type": "markdown",
      "metadata": {
        "id": "zXZR3RYvFbc9"
      },
      "source": [
        "#### Sintaxis\n",
        "```python\n",
        "diccionario.values()\n",
        "```"
      ]
    },
    {
      "cell_type": "code",
      "execution_count": null,
      "metadata": {
        "id": "vHKNSCsKFbc9"
      },
      "outputs": [],
      "source": [
        "configuracion = {\n",
        "    \"idioma\": \"español\",\n",
        "    \"tema\": \"oscuro\",\n",
        "    \"notificaciones\": True\n",
        "}\n",
        "\n",
        "valores = configuracion.values()\n",
        "print(f\"Valores del diccionario: {valores}\")\n",
        "\n",
        "# También podemos convertirlo a lista\n",
        "lista_valores = list(valores)\n",
        "print(f\"Valores como lista: {lista_valores}\")"
      ]
    },
    {
      "cell_type": "markdown",
      "metadata": {
        "id": "9SPFC5KvFbc9"
      },
      "source": [
        "#### Ejercicio Propuesto\n",
        "\n",
        "-   Para el diccionario `producto` del ejercicio anterior, obtén y muestra todos sus valores."
      ]
    },
    {
      "cell_type": "markdown",
      "metadata": {
        "id": "263DEGGUFbc9"
      },
      "source": [
        "### `.items()`\n",
        "Devuelve un objeto `dict_items` que contiene tuplas, donde cada tupla es un par `(clave, valor)`."
      ]
    },
    {
      "cell_type": "markdown",
      "metadata": {
        "id": "3xhQwm67Fbc9"
      },
      "source": [
        "#### Sintaxis\n",
        "```python\n",
        "diccionario.items()\n",
        "```"
      ]
    },
    {
      "cell_type": "code",
      "execution_count": null,
      "metadata": {
        "id": "SjzGaK3bFbc9"
      },
      "outputs": [],
      "source": [
        "configuracion = {\n",
        "    \"idioma\": \"español\",\n",
        "    \"tema\": \"oscuro\",\n",
        "    \"notificaciones\": True\n",
        "}\n",
        "\n",
        "items = configuracion.items()\n",
        "print(f\"Items del diccionario: {items}\")\n",
        "\n",
        "# Es especialmente útil para recorrer el diccionario en un bucle\n",
        "print(\"\\nRecorriendo el diccionario:\")\n",
        "for clave, valor in configuracion.items():\n",
        "    print(f\"- {clave}: {valor}\")"
      ]
    },
    {
      "cell_type": "markdown",
      "metadata": {
        "id": "RKRrCjJiFbc9"
      },
      "source": [
        "#### Ejercicio Propuesto\n",
        "\n",
        "-   Para el diccionario `producto`, obtén sus items y luego usa un bucle `for` para imprimir cada clave y su valor en una línea separada, por ejemplo: `nombre: Laptop`."
      ]
    },
    {
      "cell_type": "markdown",
      "metadata": {
        "id": "yANItMHHFbc-"
      },
      "source": [
        "### `.get(clave, valor_por_defecto)`\n",
        "Permite acceder a una clave de forma segura. Si la clave no existe, no lanza un error, sino que devuelve `None` o el valor por defecto que especifiquemos."
      ]
    },
    {
      "cell_type": "markdown",
      "metadata": {
        "id": "hLLO_VgfFbc-"
      },
      "source": [
        "#### Sintaxis\n",
        "```python\n",
        "diccionario.get('clave_existente')\n",
        "diccionario.get('clave_inexistente', 'valor si no se encuentra')\n",
        "```"
      ]
    },
    {
      "cell_type": "code",
      "execution_count": null,
      "metadata": {
        "id": "iXrtywmOFbc-"
      },
      "outputs": [],
      "source": [
        "estudiante = {\n",
        "    \"nombre\": \"Carlos\",\n",
        "    \"edad\": 25\n",
        "}\n",
        "\n",
        "# Acceso a una clave que sí existe\n",
        "nombre = estudiante.get(\"nombre\")\n",
        "print(f\"Nombre obtenido con get: {nombre}\")\n",
        "\n",
        "# Intento de acceso a una clave que no existe (sin valor por defecto)\n",
        "apellido = estudiante.get(\"apellido\")\n",
        "print(f\"Apellido obtenido con get: {apellido}\") # Devuelve None\n",
        "\n",
        "# Intento de acceso con un valor por defecto\n",
        "curso = estudiante.get(\"curso\", \"No inscrito\")\n",
        "print(f\"Curso obtenido con get: {curso}\")"
      ]
    },
    {
      "cell_type": "markdown",
      "metadata": {
        "id": "1qzxIP0uFbc-"
      },
      "source": [
        "#### Ejercicio Propuesto\n",
        "\n",
        "-   Usando el diccionario `mi_coche` de antes, intenta obtener el valor de la clave `cv` (caballos de vapor). Como no existirá, proporciona un valor por defecto de `'Dato no disponible'` y muéstralo por pantalla."
      ]
    },
    {
      "cell_type": "markdown",
      "metadata": {
        "id": "i6XEOLl5Fbc-"
      },
      "source": [
        "### `.update(otro_diccionario)`\n",
        "Fusiona un diccionario con otro. Si hay claves coincidentes, los valores del diccionario que se pasa como argumento sobrescriben a los del original."
      ]
    },
    {
      "cell_type": "markdown",
      "metadata": {
        "id": "OCzBqbDkFbc-"
      },
      "source": [
        "#### Sintaxis\n",
        "```python\n",
        "diccionario1.update(diccionario2)\n",
        "```"
      ]
    },
    {
      "cell_type": "code",
      "execution_count": null,
      "metadata": {
        "id": "rQQd-NPPFbc-"
      },
      "outputs": [],
      "source": [
        "perfil_usuario = {\n",
        "    \"usuario\": \"dev_master\",\n",
        "    \"email\": \"user@example.com\"\n",
        "}\n",
        "\n",
        "datos_adicionales = {\n",
        "    \"pais\": \"España\",\n",
        "    \"email\": \"new_email@example.com\" # Esta clave se actualizará\n",
        "}\n",
        "\n",
        "print(f\"Perfil original: {perfil_usuario}\")\n",
        "\n",
        "# Actualizamos el perfil con los nuevos datos\n",
        "perfil_usuario.update(datos_adicionales)\n",
        "\n",
        "print(f\"Perfil actualizado: {perfil_usuario}\")"
      ]
    },
    {
      "cell_type": "markdown",
      "metadata": {
        "id": "3HtJARs7Fbc-"
      },
      "source": [
        "#### Ejercicio Propuesto\n",
        "\n",
        "-   Tienes un diccionario `inventario_parcial = {\"manzanas\": 20, \"naranjas\": 15}`. Tienes otro diccionario con una nueva entrega: `nueva_entrega = {\"naranjas\": 30, \"platanos\": 25}`. Actualiza `inventario_parcial` con la `nueva_entrega` y muestra el resultado final."
      ]
    },
    {
      "cell_type": "markdown",
      "metadata": {
        "id": "0djpI5_CFbc-"
      },
      "source": [
        "---"
      ]
    },
    {
      "cell_type": "markdown",
      "metadata": {
        "id": "ZxTX4ECzFbc-"
      },
      "source": [
        "## 3. Caso de Uso: Gestión de un Inventario Simple 🛒\n",
        "\n"
      ]
    },
    {
      "cell_type": "markdown",
      "source": [
        "Vas a gestionar el inventario de una pequeña tienda de fruta. Tu tarea es usar un diccionario para realizar un seguimiento de los productos y sus cantidades (en kg) a lo largo de un día de trabajo."
      ],
      "metadata": {
        "id": "VWujme5GHmEP"
      }
    },
    {
      "cell_type": "markdown",
      "source": [
        "**Sigue estos pasos:**"
      ],
      "metadata": {
        "id": "ucfDkDTAH4bm"
      }
    },
    {
      "cell_type": "markdown",
      "source": [
        "\n",
        "\n",
        "1.   Creación del Inventario:\n",
        "\n",
        "\n",
        "*   Crea un diccionario llamado inventario.\n",
        "*   Añade los siguientes productos con sus cantidades iniciales:  \n",
        "      -. \"manzanas\": 50  \n",
        "      -. \"platanos\": 75  \n",
        "      -. \"naranjas\": 40  \n",
        "* Muestra el inventario inicial por pantalla\n",
        "\n",
        "\n",
        "\n",
        "2.   Elemento de lista  \n",
        "* Ha llegado un nuevo producto. Añade \"peras\" al inventario con una cantidad de 30 kg.\n",
        "\n",
        "* Hemos recibido más manzanas. Actualiza la cantidad de \"manzanas\", añadiendo 25 kg a su valor actual.\n",
        "\n",
        "* Muestra el inventario después de estas actualizaciones.\n",
        "\n",
        "3. Registro de una Venta:  \n",
        "\n",
        "* Un cliente ha comprado 10 kg de \"naranjas\". Resta esta cantidad del stock.\n",
        "\n",
        "* Muestra el inventario actualizado.  \n",
        "4. Producto Agotado:  \n",
        "\n",
        "* Los plátanos se han estropeado y hay que retirarlos. Elimina \"platanos\" del inventario.\n",
        "\n",
        "* Muestra el inventario final.  \n",
        "5. Consulta de Stock:  \n",
        "* El encargado te pregunta si quedan uvas. Utiliza el método .get() para consultar el stock de \"uvas\", proporcionando 0 como valor por defecto si no se encuentran. Imprime el resultado de la consulta.  \n",
        "6. Informe Final:  \n",
        "* Al final del día, genera un pequeño informe. Imprime un mensaje que diga \"Informe Final de Inventario:\" y, a continuación, recorre los items del diccionario final para mostrar cada fruta y su cantidad disponible en una línea separada (ej: - Hay 55 kg de manzanas).\n"
      ],
      "metadata": {
        "id": "ygejJnw4Ierd"
      }
    },
    {
      "cell_type": "code",
      "source": [],
      "metadata": {
        "id": "EKpOMPysMlfB"
      },
      "execution_count": null,
      "outputs": []
    }
  ],
  "metadata": {
    "kernelspec": {
      "display_name": "Python 3",
      "language": "python",
      "name": "python3"
    },
    "language_info": {
      "codemirror_mode": {
        "name": "ipython",
        "version": 3
      },
      "file_extension": ".py",
      "mimetype": "text/x-python",
      "name": "python",
      "nbconvert_exporter": "python",
      "pygments_lexer": "ipython3",
      "version": "3.9.12"
    },
    "colab": {
      "provenance": []
    }
  },
  "nbformat": 4,
  "nbformat_minor": 0
}