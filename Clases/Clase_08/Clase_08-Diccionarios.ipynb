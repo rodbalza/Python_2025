{
  "cells": [
    {
      "cell_type": "markdown",
      "metadata": {
        "id": "PcQIW4KgFbc5"
      },
      "source": [
        "# Clase 08 - Diccionarios en Python 🐍\n"
      ]
    },
    {
      "cell_type": "markdown",
      "metadata": {
        "id": "uMoq_iC_Fbc6"
      },
      "source": [
        "## 1. Diccionarios: Clave-Valor, Acceso, Inserción y Eliminación"
      ]
    },
    {
      "cell_type": "markdown",
      "metadata": {
        "id": "l4S-E1JoFbc6"
      },
      "source": [
        "### Definición\n",
        "\n",
        "Un diccionario es una colección de elementos que, a diferencia de las listas o tuplas, no se almacenan en un orden secuencial, sino que cada elemento tiene una **clave** única y un **valor** asociado. Piensa en un diccionario real: buscas una palabra (la clave) para encontrar su definición (el valor). En Python, los diccionarios nos permiten almacenar información de forma lógica y acceder a ella de manera muy eficiente."
      ]
    },
    {
      "cell_type": "markdown",
      "metadata": {
        "id": "93I34QKpFbc6"
      },
      "source": [
        "### Propiedades y Características\n",
        "\n",
        "- **Mutables**: Podemos modificar, añadir o eliminar elementos después de su creación.\n",
        "- **Dinámicos**: Pueden crecer o decrecer en tamaño según lo necesitemos.\n",
        "- **Claves únicas e inmutables**: No puede haber dos claves iguales en un mismo diccionario. Además, las claves deben ser de un tipo de dato inmutable (como strings, números o tuplas).\n",
        "- **Ordenados (a partir de Python 3.7)**: Desde esta versión, los diccionarios recuerdan el orden en que se insertaron los elementos. En versiones anteriores, eran desordenados."
      ]
    },
    {
      "cell_type": "markdown",
      "metadata": {
        "id": "k1KF3xfYFbc6"
      },
      "source": [
        "### Sintaxis\n",
        "\n",
        "Se crean utilizando llaves `{}` y separando cada par clave-valor con dos puntos (`:`).\n",
        "\n",
        "```python\n",
        "\n",
        "\n",
        "\n",
        "```"
      ]
    },
    {
      "cell_type": "code",
      "source": [
        "# Creación de un diccionario\n",
        "mi_diccionario = {\n",
        "    \"clave1\": \"valor1\",\n",
        "    \"clave2\": \"valor2\",\n",
        "    \"clave3\": \"valor3\"\n",
        "}"
      ],
      "metadata": {
        "id": "wL0PvpHUuV9x"
      },
      "execution_count": 1,
      "outputs": []
    },
    {
      "cell_type": "code",
      "source": [
        "mi_diccionario"
      ],
      "metadata": {
        "colab": {
          "base_uri": "https://localhost:8080/",
          "height": 0
        },
        "id": "KkXiPFtmu7AM",
        "outputId": "bb66f7c1-2d6d-4d34-9ad8-09bef53151d2"
      },
      "execution_count": 2,
      "outputs": [
        {
          "output_type": "execute_result",
          "data": {
            "text/plain": [
              "{'clave1': 'valor1', 'clave2': 'valor2', 'clave3': 'valor3'}"
            ]
          },
          "metadata": {},
          "execution_count": 2
        }
      ]
    },
    {
      "cell_type": "code",
      "source": [
        "# Creación de un diccionario vacío\n",
        "diccionario_vacio = {}\n",
        "diccionario_vacio"
      ],
      "metadata": {
        "colab": {
          "base_uri": "https://localhost:8080/",
          "height": 0
        },
        "id": "K70O68NCuPqF",
        "outputId": "0a767d30-7de2-4e51-8371-bbf1555bb911"
      },
      "execution_count": 4,
      "outputs": [
        {
          "output_type": "execute_result",
          "data": {
            "text/plain": [
              "{}"
            ]
          },
          "metadata": {},
          "execution_count": 4
        }
      ]
    },
    {
      "cell_type": "code",
      "source": [
        "otro_vacio = dict()\n",
        "otro_vacio"
      ],
      "metadata": {
        "colab": {
          "base_uri": "https://localhost:8080/",
          "height": 0
        },
        "id": "g8Qga_aDvGr6",
        "outputId": "360721e7-a970-4cbd-ff3c-4d5c37f46056"
      },
      "execution_count": 5,
      "outputs": [
        {
          "output_type": "execute_result",
          "data": {
            "text/plain": [
              "{}"
            ]
          },
          "metadata": {},
          "execution_count": 5
        }
      ]
    },
    {
      "cell_type": "code",
      "source": [
        "conversion = dict(['a1', 13, 'b4', 25, 'c8', 36])\n",
        "conversion"
      ],
      "metadata": {
        "colab": {
          "base_uri": "https://localhost:8080/",
          "height": 158
        },
        "id": "c8-RGXQjvYC2",
        "outputId": "a5ed3ff4-a72c-492a-ce5d-0337007712b2"
      },
      "execution_count": 7,
      "outputs": [
        {
          "output_type": "error",
          "ename": "TypeError",
          "evalue": "cannot convert dictionary update sequence element #1 to a sequence",
          "traceback": [
            "\u001b[0;31m---------------------------------------------------------------------------\u001b[0m",
            "\u001b[0;31mTypeError\u001b[0m                                 Traceback (most recent call last)",
            "\u001b[0;32m/tmp/ipython-input-391222313.py\u001b[0m in \u001b[0;36m<cell line: 0>\u001b[0;34m()\u001b[0m\n\u001b[0;32m----> 1\u001b[0;31m \u001b[0mconversion\u001b[0m \u001b[0;34m=\u001b[0m \u001b[0mdict\u001b[0m\u001b[0;34m(\u001b[0m\u001b[0;34m[\u001b[0m\u001b[0;34m'a1'\u001b[0m\u001b[0;34m,\u001b[0m \u001b[0;36m13\u001b[0m\u001b[0;34m,\u001b[0m \u001b[0;34m'b4'\u001b[0m\u001b[0;34m,\u001b[0m \u001b[0;36m25\u001b[0m\u001b[0;34m,\u001b[0m \u001b[0;34m'c8'\u001b[0m\u001b[0;34m,\u001b[0m \u001b[0;36m36\u001b[0m\u001b[0;34m]\u001b[0m\u001b[0;34m)\u001b[0m\u001b[0;34m\u001b[0m\u001b[0;34m\u001b[0m\u001b[0m\n\u001b[0m\u001b[1;32m      2\u001b[0m \u001b[0mconversion\u001b[0m\u001b[0;34m\u001b[0m\u001b[0;34m\u001b[0m\u001b[0m\n",
            "\u001b[0;31mTypeError\u001b[0m: cannot convert dictionary update sequence element #1 to a sequence"
          ]
        }
      ]
    },
    {
      "cell_type": "code",
      "source": [
        "diccionario_1= {'0123457L':['Pedro', 'Perez', 'Dirección']}"
      ],
      "metadata": {
        "id": "kl0bAzQTwMAJ"
      },
      "execution_count": 8,
      "outputs": []
    },
    {
      "cell_type": "markdown",
      "metadata": {
        "id": "69zg49smFbc7"
      },
      "source": [
        "### Ejemplos Resueltos"
      ]
    },
    {
      "cell_type": "code",
      "source": [
        "# 1. Creación y acceso a un diccionario\n",
        "estudiante = {\n",
        "    \"nombre\": \"Ana\",\n",
        "    \"edad\": 22,\n",
        "    \"curso\": \"Inteligencia Artificial\",\n",
        "    \"es_becado\": True\n",
        "}\n",
        "\n",
        "print(f\"Diccionario original: {estudiante}\")"
      ],
      "metadata": {
        "colab": {
          "base_uri": "https://localhost:8080/",
          "height": 0
        },
        "id": "gwZTzjqKseSU",
        "outputId": "bceea02e-22cd-4d47-902b-b1e7da4d5b19"
      },
      "execution_count": 9,
      "outputs": [
        {
          "output_type": "stream",
          "name": "stdout",
          "text": [
            "Diccionario original: {'nombre': 'Ana', 'edad': 22, 'curso': 'Inteligencia Artificial', 'es_becado': True}\n"
          ]
        }
      ]
    },
    {
      "cell_type": "code",
      "source": [
        "# Accedemos al valor asociado a la clave 'nombre'\n",
        "edad_estudiante = estudiante[\"edad\"]\n",
        "print(f\"El nombre del estudiante es: {edad_estudiante}\")"
      ],
      "metadata": {
        "colab": {
          "base_uri": "https://localhost:8080/",
          "height": 0
        },
        "id": "1BBIDA54xZdh",
        "outputId": "6cba009a-2f0f-4788-f074-f26e86b1fe5b"
      },
      "execution_count": 12,
      "outputs": [
        {
          "output_type": "stream",
          "name": "stdout",
          "text": [
            "El nombre del estudiante es: 22\n"
          ]
        }
      ]
    },
    {
      "cell_type": "code",
      "source": [
        "# 2. Inserción y Modificación de elementos\n",
        "\n",
        "# Añadimos un nuevo par clave-valor para la universidad\n",
        "estudiante[\"universidad\"] = \"Universidad Politécnica\"\n",
        "print(f\"Diccionario con nueva clave: {estudiante}\")"
      ],
      "metadata": {
        "colab": {
          "base_uri": "https://localhost:8080/",
          "height": 0
        },
        "id": "4kjl1Wn7xzYo",
        "outputId": "a776ef59-d97c-46a8-9ca3-41c83f8abe79"
      },
      "execution_count": 13,
      "outputs": [
        {
          "output_type": "stream",
          "name": "stdout",
          "text": [
            "Diccionario con nueva clave: {'nombre': 'Ana', 'edad': 22, 'curso': 'Inteligencia Artificial', 'es_becado': True, 'universidad': 'Universidad Politécnica'}\n"
          ]
        }
      ]
    },
    {
      "cell_type": "code",
      "source": [
        "# Modificamos un valor existente. Ana ha cumplido años.\n",
        "estudiante[\"edad\"] = 23\n",
        "print(f\"Diccionario con edad actualizada: {estudiante}\")"
      ],
      "metadata": {
        "colab": {
          "base_uri": "https://localhost:8080/",
          "height": 0
        },
        "id": "vwWJzuQ5yU6j",
        "outputId": "9d315618-1c7c-4e7e-c0c1-eac90549de48"
      },
      "execution_count": 14,
      "outputs": [
        {
          "output_type": "stream",
          "name": "stdout",
          "text": [
            "Diccionario con edad actualizada: {'nombre': 'Ana', 'edad': 23, 'curso': 'Inteligencia Artificial', 'es_becado': True, 'universidad': 'Universidad Politécnica'}\n"
          ]
        }
      ]
    },
    {
      "cell_type": "code",
      "source": [],
      "metadata": {
        "id": "Bj2NPftiyj65"
      },
      "execution_count": null,
      "outputs": []
    },
    {
      "cell_type": "code",
      "execution_count": 15,
      "metadata": {
        "id": "bR1DkQ6kFbc7",
        "colab": {
          "base_uri": "https://localhost:8080/",
          "height": 0
        },
        "outputId": "fd12213c-6e29-4044-c3ea-fc27d6e05905"
      },
      "outputs": [
        {
          "output_type": "stream",
          "name": "stdout",
          "text": [
            "Diccionario tras eliminar una clave: {'nombre': 'Ana', 'edad': 23, 'curso': 'Inteligencia Artificial', 'universidad': 'Universidad Politécnica'}\n"
          ]
        }
      ],
      "source": [
        "# 3. Eliminación de elementos\n",
        "\n",
        "# Usamos la palabra clave 'del' para eliminar el par con la clave 'es_becado'\n",
        "del estudiante[\"es_becado\"]\n",
        "print(f\"Diccionario tras eliminar una clave: {estudiante}\")"
      ]
    },
    {
      "cell_type": "markdown",
      "metadata": {
        "id": "2v0Z5ABWFbc8"
      },
      "source": [
        "### Ejercicios Propuestos\n",
        "\n",
        "1.  **Crear un diccionario** llamado `mi_coche` que almacene la siguiente información: `marca` (string), `modelo` (string), `año` (integer) y `color` (string).\n",
        "2.  **Acceder y mostrar** por pantalla el modelo del coche.\n",
        "3.  **Añadir una nueva clave** llamada `kilometraje` con un valor numérico.\n",
        "4.  **Actualizar el valor** de la clave `color` a un nuevo color que te guste.\n",
        "5.  **Eliminar la clave** `año` del diccionario."
      ]
    },
    {
      "cell_type": "markdown",
      "metadata": {
        "id": "bUuqmhupFbc8"
      },
      "source": [
        "---"
      ]
    },
    {
      "cell_type": "markdown",
      "metadata": {
        "id": "tRXwTc8JFbc8"
      },
      "source": [
        "## 2. Métodos de Diccionarios\n",
        "\n",
        "Los diccionarios vienen con métodos integrados que nos facilitan mucho el trabajo. Veamos los más importantes."
      ]
    },
    {
      "cell_type": "markdown",
      "metadata": {
        "id": "fC-L-VprFbc8"
      },
      "source": [
        "### `.keys()`\n",
        "Devuelve un objeto `dict_keys` que contiene todas las claves del diccionario. Es muy útil para iterar sobre ellas."
      ]
    },
    {
      "cell_type": "markdown",
      "metadata": {
        "id": "7dLWznpDFbc8"
      },
      "source": [
        "#### Sintaxis\n",
        "```python\n",
        "diccionario.keys()\n",
        "```"
      ]
    },
    {
      "cell_type": "code",
      "execution_count": 16,
      "metadata": {
        "id": "yhgLpD-0Fbc9",
        "colab": {
          "base_uri": "https://localhost:8080/",
          "height": 0
        },
        "outputId": "f9f04f3c-d85f-457f-cb7c-2624915ac15d"
      },
      "outputs": [
        {
          "output_type": "stream",
          "name": "stdout",
          "text": [
            "Claves del diccionario: dict_keys(['idioma', 'tema', 'notificaciones'])\n"
          ]
        }
      ],
      "source": [
        "configuracion = {\n",
        "    \"idioma\": \"español\",\n",
        "    \"tema\": \"oscuro\",\n",
        "    \"notificaciones\": True\n",
        "}\n",
        "\n",
        "claves = configuracion.keys()\n",
        "print(f\"Claves del diccionario: {claves}\")\n",
        "\n"
      ]
    },
    {
      "cell_type": "code",
      "source": [
        "# Podemos convertirlo a lista si necesitamos\n",
        "lista_claves = list(claves)\n",
        "print(f\"Claves como lista: {lista_claves}\")"
      ],
      "metadata": {
        "colab": {
          "base_uri": "https://localhost:8080/",
          "height": 0
        },
        "id": "eGB8w0uW7Tqm",
        "outputId": "2d18e219-eeea-4d4c-fe7d-702dd0e391e1"
      },
      "execution_count": 17,
      "outputs": [
        {
          "output_type": "stream",
          "name": "stdout",
          "text": [
            "Claves como lista: ['idioma', 'tema', 'notificaciones']\n"
          ]
        }
      ]
    },
    {
      "cell_type": "markdown",
      "metadata": {
        "id": "i2w7fuXpFbc9"
      },
      "source": [
        "#### Ejercicio Propuesto\n",
        "\n",
        "-   Dado un diccionario `producto = {\"nombre\": \"Laptop\", \"precio\": 1200, \"stock\": 45}`, obtén y muestra por pantalla todas sus claves."
      ]
    },
    {
      "cell_type": "markdown",
      "metadata": {
        "id": "5pMnkqmhFbc9"
      },
      "source": [
        "### `.values()`\n",
        "Devuelve un objeto `dict_values` con todos los valores del diccionario."
      ]
    },
    {
      "cell_type": "markdown",
      "metadata": {
        "id": "zXZR3RYvFbc9"
      },
      "source": [
        "#### Sintaxis\n",
        "```python\n",
        "diccionario.values()\n",
        "```"
      ]
    },
    {
      "cell_type": "code",
      "execution_count": 18,
      "metadata": {
        "id": "vHKNSCsKFbc9",
        "colab": {
          "base_uri": "https://localhost:8080/",
          "height": 0
        },
        "outputId": "2f0ed53c-a514-47e8-e2d7-5e7ce6932b98"
      },
      "outputs": [
        {
          "output_type": "stream",
          "name": "stdout",
          "text": [
            "Valores del diccionario: dict_values(['español', 'oscuro', True])\n"
          ]
        }
      ],
      "source": [
        "configuracion = {\n",
        "    \"idioma\": \"español\",\n",
        "    \"tema\": \"oscuro\",\n",
        "    \"notificaciones\": True\n",
        "}\n",
        "\n",
        "valores = configuracion.values()\n",
        "print(f\"Valores del diccionario: {valores}\")\n",
        "\n"
      ]
    },
    {
      "cell_type": "code",
      "source": [
        "# También podemos convertirlo a lista\n",
        "lista_valores = list(valores)\n",
        "print(f\"Valores como lista: {lista_valores}\")"
      ],
      "metadata": {
        "colab": {
          "base_uri": "https://localhost:8080/",
          "height": 0
        },
        "id": "cHFAiyyp78hK",
        "outputId": "a471ae25-8c97-4396-80dc-835c8f994970"
      },
      "execution_count": 19,
      "outputs": [
        {
          "output_type": "stream",
          "name": "stdout",
          "text": [
            "Valores como lista: ['español', 'oscuro', True]\n"
          ]
        }
      ]
    },
    {
      "cell_type": "markdown",
      "metadata": {
        "id": "9SPFC5KvFbc9"
      },
      "source": [
        "#### Ejercicio Propuesto\n",
        "\n",
        "-   Para el diccionario `producto` del ejercicio anterior, obtén y muestra todos sus valores."
      ]
    },
    {
      "cell_type": "markdown",
      "metadata": {
        "id": "263DEGGUFbc9"
      },
      "source": [
        "### `.items()`\n",
        "Devuelve un objeto `dict_items` que contiene tuplas, donde cada tupla es un par `(clave, valor)`."
      ]
    },
    {
      "cell_type": "markdown",
      "metadata": {
        "id": "3xhQwm67Fbc9"
      },
      "source": [
        "#### Sintaxis\n",
        "```python\n",
        "diccionario.items()\n",
        "```"
      ]
    },
    {
      "cell_type": "code",
      "execution_count": 20,
      "metadata": {
        "id": "SjzGaK3bFbc9",
        "colab": {
          "base_uri": "https://localhost:8080/",
          "height": 0
        },
        "outputId": "94209054-5f76-46a0-ea2e-5e6cc3f187ba"
      },
      "outputs": [
        {
          "output_type": "stream",
          "name": "stdout",
          "text": [
            "Items del diccionario: dict_items([('idioma', 'español'), ('tema', 'oscuro'), ('notificaciones', True)])\n"
          ]
        }
      ],
      "source": [
        "configuracion = {\n",
        "    \"idioma\": \"español\",\n",
        "    \"tema\": \"oscuro\",\n",
        "    \"notificaciones\": True\n",
        "}\n",
        "\n",
        "items = configuracion.items()\n",
        "print(f\"Items del diccionario: {items}\")\n",
        "\n"
      ]
    },
    {
      "cell_type": "code",
      "source": [
        "# Es especialmente útil para recorrer el diccionario en un bucle\n",
        "print(\"\\nRecorriendo el diccionario:\")\n",
        "for clave, valor in configuracion.items():\n",
        "    print(f\"- {clave}: {valor}\")"
      ],
      "metadata": {
        "colab": {
          "base_uri": "https://localhost:8080/",
          "height": 0
        },
        "id": "99hZhuDX8KTl",
        "outputId": "fa2d5d52-273a-4fda-b4af-6ac86a83765c"
      },
      "execution_count": 21,
      "outputs": [
        {
          "output_type": "stream",
          "name": "stdout",
          "text": [
            "\n",
            "Recorriendo el diccionario:\n",
            "- idioma: español\n",
            "- tema: oscuro\n",
            "- notificaciones: True\n"
          ]
        }
      ]
    },
    {
      "cell_type": "markdown",
      "metadata": {
        "id": "RKRrCjJiFbc9"
      },
      "source": [
        "#### Ejercicio Propuesto\n",
        "\n",
        "-   Para el diccionario `producto`, obtén sus items y luego usa un bucle `for` para imprimir cada clave y su valor en una línea separada, por ejemplo: `nombre: Laptop`."
      ]
    },
    {
      "cell_type": "markdown",
      "metadata": {
        "id": "yANItMHHFbc-"
      },
      "source": [
        "### `.get(clave, valor_por_defecto)`\n",
        "Permite acceder a una clave de forma segura. Si la clave no existe, no lanza un error, sino que devuelve `None` o el valor por defecto que especifiquemos."
      ]
    },
    {
      "cell_type": "markdown",
      "metadata": {
        "id": "hLLO_VgfFbc-"
      },
      "source": [
        "#### Sintaxis\n",
        "```python\n",
        "diccionario.get('clave_existente')\n",
        "diccionario.get('clave_inexistente', 'valor si no se encuentra')\n",
        "```"
      ]
    },
    {
      "cell_type": "code",
      "source": [
        "estudiante = {\n",
        "    \"nombre\": \"Carlos\",\n",
        "    \"edad\": 25\n",
        "}\n",
        "\n",
        "# Acceso a una clave que sí existe\n",
        "nombre = estudiante.get(\"nombre\")\n",
        "print(f\"Nombre obtenido con get: {nombre}\")"
      ],
      "metadata": {
        "colab": {
          "base_uri": "https://localhost:8080/",
          "height": 0
        },
        "id": "UBB7rn8b9NZu",
        "outputId": "9625a1d4-a486-469e-f896-f978d1d072cf"
      },
      "execution_count": 22,
      "outputs": [
        {
          "output_type": "stream",
          "name": "stdout",
          "text": [
            "Nombre obtenido con get: Carlos\n"
          ]
        }
      ]
    },
    {
      "cell_type": "code",
      "source": [
        "# Intento de acceso a una clave que no existe (sin valor por defecto)\n",
        "apellido = estudiante.get(\"apellido\")\n",
        "print(f\"Apellido obtenido con get: {apellido}\") # Devuelve None"
      ],
      "metadata": {
        "colab": {
          "base_uri": "https://localhost:8080/",
          "height": 0
        },
        "id": "P1LqCMaV9YlB",
        "outputId": "22b041d3-0f81-497a-a5c1-376595f56425"
      },
      "execution_count": 23,
      "outputs": [
        {
          "output_type": "stream",
          "name": "stdout",
          "text": [
            "Apellido obtenido con get: None\n"
          ]
        }
      ]
    },
    {
      "cell_type": "code",
      "execution_count": 24,
      "metadata": {
        "id": "iXrtywmOFbc-",
        "colab": {
          "base_uri": "https://localhost:8080/",
          "height": 0
        },
        "outputId": "609078ea-fa90-47e8-d447-13c7a1face02"
      },
      "outputs": [
        {
          "output_type": "stream",
          "name": "stdout",
          "text": [
            "Curso obtenido con get: No inscrito\n"
          ]
        }
      ],
      "source": [
        "# Intento de acceso con un valor por defecto\n",
        "curso = estudiante.get(\"curso\", \"No inscrito\")\n",
        "print(f\"Curso obtenido con get: {curso}\")"
      ]
    },
    {
      "cell_type": "markdown",
      "metadata": {
        "id": "1qzxIP0uFbc-"
      },
      "source": [
        "#### Ejercicio Propuesto\n",
        "\n",
        "-   Usando el diccionario `mi_coche` de antes, intenta obtener el valor de la clave `cv` (caballos de vapor). Como no existirá, proporciona un valor por defecto de `'Dato no disponible'` y muéstralo por pantalla."
      ]
    },
    {
      "cell_type": "markdown",
      "metadata": {
        "id": "i6XEOLl5Fbc-"
      },
      "source": [
        "### `.update(otro_diccionario)`\n",
        "Fusiona un diccionario con otro. Si hay claves coincidentes, los valores del diccionario que se pasa como argumento sobrescriben a los del original."
      ]
    },
    {
      "cell_type": "markdown",
      "metadata": {
        "id": "OCzBqbDkFbc-"
      },
      "source": [
        "#### Sintaxis\n",
        "```python\n",
        "diccionario1.update(diccionario2)\n",
        "```"
      ]
    },
    {
      "cell_type": "code",
      "source": [],
      "metadata": {
        "id": "2lmk0p_V-Agh"
      },
      "execution_count": null,
      "outputs": []
    },
    {
      "cell_type": "code",
      "execution_count": 25,
      "metadata": {
        "id": "rQQd-NPPFbc-",
        "colab": {
          "base_uri": "https://localhost:8080/",
          "height": 0
        },
        "outputId": "727002ec-16a8-4299-9208-c2d816fa647f"
      },
      "outputs": [
        {
          "output_type": "stream",
          "name": "stdout",
          "text": [
            "Perfil original: {'usuario': 'dev_master', 'email': 'user@example.com'}\n"
          ]
        }
      ],
      "source": [
        "perfil_usuario = {\n",
        "    \"usuario\": \"dev_master\",\n",
        "    \"email\": \"user@example.com\"\n",
        "}\n",
        "\n",
        "datos_adicionales = {\n",
        "    \"pais\": \"España\",\n",
        "    \"email\": \"new_email@example.com\" # Esta clave se actualizará\n",
        "}\n",
        "\n",
        "print(f\"Perfil original: {perfil_usuario}\")\n",
        "\n"
      ]
    },
    {
      "cell_type": "code",
      "source": [
        "# Actualizamos el perfil con los nuevos datos\n",
        "perfil_usuario.update(datos_adicionales)\n",
        "\n",
        "print(f\"Perfil actualizado: {perfil_usuario}\")"
      ],
      "metadata": {
        "colab": {
          "base_uri": "https://localhost:8080/",
          "height": 0
        },
        "id": "bmzR6r9D-XPq",
        "outputId": "28956e47-0334-4d59-bf6e-193ad730249f"
      },
      "execution_count": 26,
      "outputs": [
        {
          "output_type": "stream",
          "name": "stdout",
          "text": [
            "Perfil actualizado: {'usuario': 'dev_master', 'email': 'new_email@example.com', 'pais': 'España'}\n"
          ]
        }
      ]
    },
    {
      "cell_type": "markdown",
      "metadata": {
        "id": "3HtJARs7Fbc-"
      },
      "source": [
        "#### Ejercicio Propuesto\n",
        "\n",
        "-   Tienes un diccionario `inventario_parcial = {\"manzanas\": 20, \"naranjas\": 15}`. Tienes otro diccionario con una nueva entrega: `nueva_entrega = {\"naranjas\": 30, \"platanos\": 25}`. Actualiza `inventario_parcial` con la `nueva_entrega` y muestra el resultado final."
      ]
    },
    {
      "cell_type": "markdown",
      "metadata": {
        "id": "0djpI5_CFbc-"
      },
      "source": [
        "---"
      ]
    },
    {
      "cell_type": "markdown",
      "metadata": {
        "id": "ZxTX4ECzFbc-"
      },
      "source": [
        "## 3. Caso de Uso: Gestión de un Inventario Simple 🛒\n",
        "\n"
      ]
    },
    {
      "cell_type": "markdown",
      "source": [
        "Vas a gestionar el inventario de una pequeña tienda de fruta. Tu tarea es usar un diccionario para realizar un seguimiento de los productos y sus cantidades (en kg) a lo largo de un día de trabajo."
      ],
      "metadata": {
        "id": "VWujme5GHmEP"
      }
    },
    {
      "cell_type": "markdown",
      "source": [
        "**Sigue estos pasos:**"
      ],
      "metadata": {
        "id": "ucfDkDTAH4bm"
      }
    },
    {
      "cell_type": "markdown",
      "source": [
        "\n",
        "\n",
        "1.   Creación del Inventario:\n",
        "\n",
        "\n",
        "*   Crea un diccionario llamado inventario.\n",
        "*   Añade los siguientes productos con sus cantidades iniciales:  \n",
        "      -. \"manzanas\": 50  \n",
        "      -. \"platanos\": 75  \n",
        "      -. \"naranjas\": 40  \n",
        "* Muestra el inventario inicial por pantalla\n",
        "\n",
        "\n",
        "\n",
        "2.   Elemento de lista  \n",
        "* Ha llegado un nuevo producto. Añade \"peras\" al inventario con una cantidad de 30 kg.\n",
        "\n",
        "* Hemos recibido más manzanas. Actualiza la cantidad de \"manzanas\", añadiendo 25 kg a su valor actual.\n",
        "\n",
        "* Muestra el inventario después de estas actualizaciones.\n",
        "\n",
        "3. Registro de una Venta:  \n",
        "\n",
        "* Un cliente ha comprado 10 kg de \"naranjas\". Resta esta cantidad del stock.\n",
        "\n",
        "* Muestra el inventario actualizado.  \n",
        "4. Producto Agotado:  \n",
        "\n",
        "* Los plátanos se han estropeado y hay que retirarlos. Elimina \"platanos\" del inventario.\n",
        "\n",
        "* Muestra el inventario final.  \n",
        "5. Consulta de Stock:  \n",
        "* El encargado te pregunta si quedan uvas. Utiliza el método .get() para consultar el stock de \"uvas\", proporcionando 0 como valor por defecto si no se encuentran. Imprime el resultado de la consulta.  \n",
        "6. Informe Final:  \n",
        "* Al final del día, genera un pequeño informe. Imprime un mensaje que diga \"Informe Final de Inventario:\" y, a continuación, recorre los items del diccionario final para mostrar cada fruta y su cantidad disponible en una línea separada (ej: - Hay 55 kg de manzanas).\n"
      ],
      "metadata": {
        "id": "ygejJnw4Ierd"
      }
    },
    {
      "cell_type": "markdown",
      "source": [
        "## 4 Supongamos que un diccionario contiene la siguiente información sobre 5 empleados:"
      ],
      "metadata": {
        "id": "brXth4xGA7Wl"
      }
    },
    {
      "cell_type": "markdown",
      "source": [
        "\n",
        "\n",
        "```\n",
        "emp = {\n",
        "    'A101': {'name': 'Ashish', 'age': 30, 'salary': 21000},\n",
        "    'B102': {'name': 'Dinesh', 'age': 25, 'salary': 12200},\n",
        "    'A103': {'name': 'Ramesh', 'age': 28, 'salary': 11000},\n",
        "    'D104': {'name': 'Akheel', 'age': 30, 'salary': 18000},\n",
        "    'A105': {'name': 'Akaash', 'age': 32, 'salary': 20000}\n",
        "}\n",
        "```\n",
        "\n"
      ],
      "metadata": {
        "id": "ZnDeXJ9MBBVw"
      }
    },
    {
      "cell_type": "markdown",
      "source": [
        "Escribe un programa en Python para crear:  \n",
        "- 🟢 Un diccionario con todos los códigos y sus respectivos valores, **solo si el código empieza con la letra `'A'`**.\n",
        "- 🟢 Un diccionario con todos los **códigos y nombres**.\n",
        "- 🟢 Un diccionario con todos los **códigos y edades**.\n",
        "- 🟢 Un diccionario con todos los **códigos y edades**, **solo si la edad es mayor que 30**.\n",
        "- 🟢 Un diccionario con todos los **códigos y nombres**, **solo si el nombre comienza con la letra `'A'`**.\n",
        "- 🟢 Un diccionario con todos los **códigos y salarios**, **solo si el salario está entre 13,000 y 20,000 inclusive**."
      ],
      "metadata": {
        "id": "j8L4C8BhBK_0"
      }
    },
    {
      "cell_type": "markdown",
      "source": [
        "### ✅ Salida esperada (Output)"
      ],
      "metadata": {
        "id": "2DtePdltETVy"
      }
    },
    {
      "cell_type": "markdown",
      "source": [
        "\n",
        "\n",
        "```\n",
        "{'A101': {'name': 'Ashish', 'age': 30, 'salary': 21000}, 'A103': {'name': 'Ramesh', 'age': 28, 'salary': 11000}}\n",
        "```\n",
        "\n",
        "\n",
        "```\n",
        "{'A101': 'Ashish', 'B102': 'Dinesh', 'A103': 'Ramesh', 'D104': 'Akheel'}\n",
        "```\n",
        "\n",
        "\n",
        "```\n",
        "{'A101': 30, 'B102': 25, 'A103': 28, 'D104': 30}\n",
        "```\n",
        "\n",
        "\n",
        "```\n",
        "{}\n",
        "```\n",
        "\n",
        "\n",
        "```\n",
        "{'A101': 'Ashish', 'D104': 'Akheel'}\n",
        "```\n",
        "\n",
        "\n",
        "\n",
        "```\n",
        "{'D104': 18000}\n",
        "```\n",
        "\n",
        "\n",
        "\n",
        "\n",
        "\n"
      ],
      "metadata": {
        "id": "WVDqhXaGEXQr"
      }
    },
    {
      "cell_type": "markdown",
      "source": [
        "## 5. Crear un diccionario con nombres de estudiantes y calificaciones  \n",
        "Cree un diccionario que contenga los nombres de los estudiantes y las calificaciones obtenidas por ellos en tres materias. Escriba un programa para reemplazar las calificaciones de tres materias con el total de tres materias y las calificaciones promedio. Informe también quién es el mejor de la clase."
      ],
      "metadata": {
        "id": "t94w84o_BbDD"
      }
    },
    {
      "cell_type": "markdown",
      "source": [
        "## 6. Crear un diccionario de 10 nombres de usuario y contraseñas  \n",
        "El programa recibe el nombre de usuario y la contraseña por el teclado y luego los busca en el diccionario. Imprima el mensaje apropiado en la pantalla en función de si se encuentra una coincidencia o no."
      ],
      "metadata": {
        "id": "1QYUNNhKB1XK"
      }
    },
    {
      "cell_type": "markdown",
      "source": [
        "## 7. Eliminar vocales de las claves de un diccionario  \n",
        "Dado un diccionario cuyas claves son cadenas de texto (strings), escribe un programa en Python que cree un nuevo diccionario eliminando todas las vocales (a, e, i, o, u) de dichas claves, manteniendo sus valores originales."
      ],
      "metadata": {
        "id": "gpmo0brOCidk"
      }
    },
    {
      "cell_type": "markdown",
      "source": [
        "### 🧪 Ejemplo de entrada"
      ],
      "metadata": {
        "id": "NRRrTXgiCpZu"
      }
    },
    {
      "cell_type": "markdown",
      "source": [
        "\n",
        "\n",
        "```\n",
        "datos = {\n",
        "    'sol': 3,\n",
        "    'espacio': 7,\n",
        "    'cohete': 6,\n",
        "    'tierra': 6\n",
        "}\n",
        "\n",
        "```\n",
        "\n"
      ],
      "metadata": {
        "id": "1couggLPCsij"
      }
    },
    {
      "cell_type": "markdown",
      "source": [
        "### ✅ Salida esperada  \n",
        "\n",
        "\n",
        "```\n",
        "{'sl': 3, 'spc': 7, 'cht': 6, 'trr': 6}\n",
        "```\n",
        "\n"
      ],
      "metadata": {
        "id": "60J1g7rxCxCl"
      }
    },
    {
      "cell_type": "code",
      "source": [],
      "metadata": {
        "id": "iFUYi3ZzC6-k"
      },
      "execution_count": null,
      "outputs": []
    },
    {
      "cell_type": "markdown",
      "source": [
        "## 8. Escribir un programa que cree un diccionario vacío y lo vaya llenado con información sobre una persona (por ejemplo nombre, edad, sexo, teléfono, correo electrónico, etc.) que se le pida al usuario. Cada vez que se añada un nuevo dato debe imprimirse el contenido del diccionario."
      ],
      "metadata": {
        "id": "2i0FdlqyDWVo"
      }
    },
    {
      "cell_type": "code",
      "source": [],
      "metadata": {
        "id": "ZQmQz7BbDaCK"
      },
      "execution_count": null,
      "outputs": []
    },
    {
      "cell_type": "markdown",
      "source": [
        "## 9. Clientes  \n",
        "Escribir un programa que permita gestionar la base de datos de clientes de una empresa. Los clientes se guardarán en un diccionario en el que la clave de cada cliente será su NIF, y el valor será otro diccionario con los datos del cliente (nombre, dirección, teléfono, correo, preferente), donde preferente tendrá el valor True si se trata de un cliente preferente. El programa debe preguntar al usuario por una opción del siguiente menú: (1) Añadir cliente, (2) Eliminar cliente, (3) Mostrar cliente, (4) Listar todos los clientes, (5) Listar clientes preferentes, (6) Terminar. En función de la opción elegida el programa tendrá que hacer lo siguiente:    \n",
        "1. Preguntar los datos del cliente, crear un diccionario con los datos y añadirlo a la base de datos.\n",
        "2. Preguntar por el NIF del cliente y eliminar sus datos de la base de datos.  \n",
        "3. Preguntar por el NIF del cliente y mostrar sus datos.  \n",
        "4. Mostrar lista de todos los clientes de la base datos con su NIF y nombre.  \n",
        "5. Mostrar la lista de clientes preferentes de la base de datos con su NIF y nombre.  \n",
        "6. Terminar el programa.  "
      ],
      "metadata": {
        "id": "REzcGTnKDuoL"
      }
    },
    {
      "cell_type": "code",
      "source": [],
      "metadata": {
        "id": "iUlA3FsHEJVK"
      },
      "execution_count": null,
      "outputs": []
    }
  ],
  "metadata": {
    "kernelspec": {
      "display_name": "Python 3",
      "language": "python",
      "name": "python3"
    },
    "language_info": {
      "codemirror_mode": {
        "name": "ipython",
        "version": 3
      },
      "file_extension": ".py",
      "mimetype": "text/x-python",
      "name": "python",
      "nbconvert_exporter": "python",
      "pygments_lexer": "ipython3",
      "version": "3.9.12"
    },
    "colab": {
      "provenance": []
    }
  },
  "nbformat": 4,
  "nbformat_minor": 0
}