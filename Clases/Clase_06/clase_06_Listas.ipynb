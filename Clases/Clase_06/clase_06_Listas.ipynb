{
  "cells": [
    {
      "cell_type": "markdown",
      "metadata": {
        "id": "Q62KnNYcM_Nb"
      },
      "source": [
        "# 📚 Listas en Python\n",
        "\n"
      ]
    },
    {
      "cell_type": "markdown",
      "source": [
        "# 1. Listas: Creación, Acceso y Modificación"
      ],
      "metadata": {
        "id": "g6sGfHckOQtY"
      }
    },
    {
      "cell_type": "markdown",
      "source": [
        "### Definiciones\n",
        "\n",
        "Una **lista** en Python es una estructura de datos que permite almacenar múltiples elementos en una sola variable. Las listas son:\n",
        "- **Ordenadas**: mantienen el orden de inserción\n",
        "- **Mutables**: pueden modificarse después de su creación\n",
        "- **Dinámicas**: pueden contener diferentes tipos de datos\n",
        "- **Indexadas**: cada elemento tiene una posición (índice) comenzando desde 0"
      ],
      "metadata": {
        "id": "uaZc8HimOXaw"
      }
    },
    {
      "cell_type": "markdown",
      "metadata": {
        "id": "VanGQXlMM_Nc"
      },
      "source": [
        "### Sintaxis"
      ]
    },
    {
      "cell_type": "code",
      "execution_count": 9,
      "metadata": {
        "id": "cDGe9N6LM_Nc"
      },
      "outputs": [],
      "source": [
        "# Creación de listas\n",
        "lista_vacia = []\n",
        "lista_numeros = [1, 2, 3, 4, 5]\n",
        "lista_mixta = [1, \"Python\", 3.14, True]\n",
        "lista_anidada = [[1, 2], [3, 4], [5, 6]]\n"
      ]
    },
    {
      "cell_type": "code",
      "source": [
        "# Acceso a elementos (indexación)\n",
        "primer_elemento = lista_numeros[0]  # 1\n",
        "ultimo_elemento = lista_numeros[-1]  # 5\n",
        "rango = lista_numeros[1:4]  # [2, 3, 4] (slicing)"
      ],
      "metadata": {
        "id": "as9YA8cySiVU"
      },
      "execution_count": null,
      "outputs": []
    },
    {
      "cell_type": "code",
      "source": [
        "# Modificación de elementos\n",
        "lista_numeros[0] = 10  # Cambia el primer elemento\n",
        "lista_numeros[1:3] = [20, 30]  # Modifica múltiples elementos\n",
        "\n",
        "print(f\"Lista modificada: {lista_numeros}\")"
      ],
      "metadata": {
        "id": "1LivE2MfSif0"
      },
      "execution_count": null,
      "outputs": []
    },
    {
      "cell_type": "markdown",
      "metadata": {
        "id": "2BrlEidCM_Nd"
      },
      "source": [
        "## Ejercicios Básicos Resueltos\n",
        "\n"
      ]
    },
    {
      "cell_type": "markdown",
      "source": [
        "### **Ejercicio 1:** Crear una lista con los días de la semana y mostrar el primer y último día.**texto en negrita**"
      ],
      "metadata": {
        "id": "5QZqErudQPmP"
      }
    },
    {
      "cell_type": "code",
      "execution_count": 3,
      "metadata": {
        "colab": {
          "base_uri": "https://localhost:8080/"
        },
        "id": "GENCemi3M_Ne",
        "outputId": "26d14bf0-55f9-4ac2-e7da-495e5c77c006"
      },
      "outputs": [
        {
          "output_type": "stream",
          "name": "stdout",
          "text": [
            "Primer día: Lunes\n",
            "Último día: Domingo\n"
          ]
        }
      ],
      "source": [
        "# Solución\n",
        "dias_semana = [\"Lunes\", \"Martes\", \"Miércoles\", \"Jueves\", \"Viernes\", \"Sábado\", \"Domingo\"]\n",
        "print(f\"Primer día: {dias_semana[0]}\")\n",
        "print(f\"Último día: {dias_semana[-1]}\")"
      ]
    },
    {
      "cell_type": "markdown",
      "metadata": {
        "id": "wXfT7sntM_Ne"
      },
      "source": [
        "### **Ejercicio 2:** Crear una lista con las calificaciones de un estudiante y modificar la tercera nota."
      ]
    },
    {
      "cell_type": "code",
      "execution_count": 4,
      "metadata": {
        "colab": {
          "base_uri": "https://localhost:8080/"
        },
        "id": "qELdXshrM_Ne",
        "outputId": "22ca5ab4-9054-406b-b2cb-7810b359382a"
      },
      "outputs": [
        {
          "output_type": "stream",
          "name": "stdout",
          "text": [
            "Calificaciones originales: [85, 90, 75, 88, 92]\n",
            "Calificaciones modificadas: [85, 90, 95, 88, 92]\n"
          ]
        }
      ],
      "source": [
        "# Solución\n",
        "calificaciones = [85, 90, 75, 88, 92]\n",
        "print(f\"Calificaciones originales: {calificaciones}\")\n",
        "\n",
        "# Modificar la tercera nota (índice 2)\n",
        "calificaciones[2] = 95\n",
        "print(f\"Calificaciones modificadas: {calificaciones}\")"
      ]
    },
    {
      "cell_type": "markdown",
      "metadata": {
        "id": "yaEKHaJJM_Ne"
      },
      "source": [
        "### **Ejercicio 3:** Crear una lista de números y extraer los elementos del segundo al cuarto utilizando slicing."
      ]
    },
    {
      "cell_type": "code",
      "execution_count": 5,
      "metadata": {
        "colab": {
          "base_uri": "https://localhost:8080/"
        },
        "id": "cioMHoy3M_Nf",
        "outputId": "1f382fc0-b939-4b17-8c82-2b33833043e8"
      },
      "outputs": [
        {
          "output_type": "stream",
          "name": "stdout",
          "text": [
            "Lista original: [10, 20, 30, 40, 50, 60, 70]\n",
            "Segmento extraído: [20, 30, 40]\n"
          ]
        }
      ],
      "source": [
        "# Solución\n",
        "numeros = [10, 20, 30, 40, 50, 60, 70]\n",
        "segmento = numeros[1:4]  # Índices 1, 2, 3 (el 4 no se incluye)\n",
        "print(f\"Lista original: {numeros}\")\n",
        "print(f\"Segmento extraído: {segmento}\")"
      ]
    },
    {
      "cell_type": "markdown",
      "metadata": {
        "id": "0hK_MWTIM_Nf"
      },
      "source": [
        "## **Ejercicios Básicos Propuestos**"
      ]
    },
    {
      "cell_type": "markdown",
      "source": [
        "### **Ejercicio 1:** Crear una lista con los nombres de 5 frutas y mostrar la segunda y penúltima fruta."
      ],
      "metadata": {
        "id": "cSz8u-BZQnIg"
      }
    },
    {
      "cell_type": "code",
      "execution_count": 6,
      "metadata": {
        "id": "WMdgkrg_M_Nf"
      },
      "outputs": [],
      "source": [
        "# Tu código aquí\n"
      ]
    },
    {
      "cell_type": "markdown",
      "metadata": {
        "id": "2YUlurWgM_Nf"
      },
      "source": [
        "### **Ejercicio 2:** Crear una lista con 6 números enteros y cambiar el valor del cuarto elemento por su doble."
      ]
    },
    {
      "cell_type": "code",
      "execution_count": 7,
      "metadata": {
        "id": "9l4t1ETAM_Ng"
      },
      "outputs": [],
      "source": [
        "# Tu código aquí\n"
      ]
    },
    {
      "cell_type": "markdown",
      "metadata": {
        "id": "lB-4NxMCM_Ng"
      },
      "source": [
        "### **Ejercicio 3:** Crear una lista de 8 colores y extraer los elementos desde el tercero hasta el sexto usando slicing."
      ]
    },
    {
      "cell_type": "code",
      "execution_count": 8,
      "metadata": {
        "id": "fHWDi6M2M_Ng"
      },
      "outputs": [],
      "source": [
        "# Tu código aquí\n"
      ]
    },
    {
      "cell_type": "markdown",
      "metadata": {
        "id": "1LB6K1qXM_Ng"
      },
      "source": [
        "---\n",
        "\n",
        "# 2. Métodos Útiles de Listas\n",
        "\n"
      ]
    },
    {
      "cell_type": "markdown",
      "source": [
        "## Definiciones\n",
        "\n"
      ],
      "metadata": {
        "id": "KvpCrEmOQ3S-"
      }
    },
    {
      "cell_type": "markdown",
      "source": [
        "Los **métodos** son funciones integradas que pueden aplicarse directamente sobre las listas para realizar operaciones comunes. Los métodos más importantes son:\n",
        "\n",
        "- **append()**: agrega un elemento al final de la lista\n",
        "- **remove()**: elimina la primera aparición de un valor específico\n",
        "- **insert()**: inserta un elemento en una posición específica\n",
        "- **pop()**: elimina y retorna un elemento en una posición (por defecto el último)\n",
        "- **sort()**: ordena la lista de forma ascendente o descendente\n",
        "- **reverse()**: invierte el orden de los elementos"
      ],
      "metadata": {
        "id": "gquE8DdqRjRJ"
      }
    },
    {
      "cell_type": "markdown",
      "metadata": {
        "id": "Yu8V8ClDM_Ng"
      },
      "source": [
        "## Sintaxis"
      ]
    },
    {
      "cell_type": "code",
      "execution_count": null,
      "metadata": {
        "id": "utGoHcUcM_Ng"
      },
      "outputs": [],
      "source": [
        "# append() - agregar al final\n",
        "frutas = [\"manzana\", \"pera\"]\n",
        "frutas.append(\"naranja\")\n",
        "print(f\"Después de append: {frutas}\")\n",
        "\n",
        "# remove() - eliminar por valor\n",
        "frutas.remove(\"pera\")\n",
        "print(f\"Después de remove: {frutas}\")\n",
        "\n",
        "# insert() - insertar en posición\n",
        "frutas.insert(1, \"uva\")\n",
        "print(f\"Después de insert: {frutas}\")\n",
        "\n",
        "# pop() - eliminar por índice y retornar\n",
        "ultima = frutas.pop()\n",
        "print(f\"Elemento eliminado: {ultima}\")\n",
        "print(f\"Después de pop: {frutas}\")\n",
        "\n",
        "# sort() - ordenar\n",
        "numeros = [5, 2, 8, 1, 9]\n",
        "numeros.sort()\n",
        "print(f\"Ordenada ascendente: {numeros}\")\n",
        "numeros.sort(reverse=True)\n",
        "print(f\"Ordenada descendente: {numeros}\")\n",
        "\n",
        "# reverse() - invertir orden\n",
        "numeros.reverse()\n",
        "print(f\"Después de reverse: {numeros}\")"
      ]
    },
    {
      "cell_type": "markdown",
      "metadata": {
        "id": "COZlVeSuM_Ng"
      },
      "source": [
        "## Ejercicios Básicos Resueltos\n",
        "\n"
      ]
    },
    {
      "cell_type": "markdown",
      "source": [
        "### **Ejercicio 1:** Crear una lista de compras vacía, agregar 4 productos con append(), y luego eliminar uno con remove()."
      ],
      "metadata": {
        "id": "hZvdiDqIRCAW"
      }
    },
    {
      "cell_type": "code",
      "execution_count": null,
      "metadata": {
        "id": "XmGG8F80M_Nh"
      },
      "outputs": [],
      "source": [
        "# Solución\n",
        "lista_compras = []\n",
        "\n",
        "# Agregar productos\n",
        "lista_compras.append(\"leche\")\n",
        "lista_compras.append(\"pan\")\n",
        "lista_compras.append(\"huevos\")\n",
        "lista_compras.append(\"queso\")\n",
        "print(f\"Lista completa: {lista_compras}\")\n",
        "\n",
        "# Eliminar un producto\n",
        "lista_compras.remove(\"pan\")\n",
        "print(f\"Lista después de eliminar pan: {lista_compras}\")"
      ]
    },
    {
      "cell_type": "markdown",
      "metadata": {
        "id": "nPZqnsF2M_Nh"
      },
      "source": [
        "### **Ejercicio 2:** Crear una lista con nombres de estudiantes desordenados, insertar un nuevo estudiante en la posición 2, y luego ordenar la lista alfabéticamente."
      ]
    },
    {
      "cell_type": "code",
      "execution_count": null,
      "metadata": {
        "id": "ZsmCqNfZM_Nh"
      },
      "outputs": [],
      "source": [
        "# Solución\n",
        "estudiantes = [\"Carlos\", \"Ana\", \"Elena\", \"David\"]\n",
        "print(f\"Lista original: {estudiantes}\")\n",
        "\n",
        "# Insertar en posición 2\n",
        "estudiantes.insert(2, \"Beatriz\")\n",
        "print(f\"Después de insertar: {estudiantes}\")\n",
        "\n",
        "# Ordenar alfabéticamente\n",
        "estudiantes.sort()\n",
        "print(f\"Lista ordenada: {estudiantes}\")"
      ]
    },
    {
      "cell_type": "markdown",
      "metadata": {
        "id": "WRIXbGVKM_Nh"
      },
      "source": [
        "### **Ejercicio 3:** Crear una lista de temperaturas, eliminar la última con pop(), invertir el orden y ordenar de mayor a menor."
      ]
    },
    {
      "cell_type": "code",
      "execution_count": null,
      "metadata": {
        "id": "wscV7buQM_Nh"
      },
      "outputs": [],
      "source": [
        "# Solución\n",
        "temperaturas = [23, 18, 25, 20, 22, 19]\n",
        "print(f\"Temperaturas originales: {temperaturas}\")\n",
        "\n",
        "# Eliminar la última temperatura\n",
        "ultima_temp = temperaturas.pop()\n",
        "print(f\"Temperatura eliminada: {ultima_temp}\")\n",
        "print(f\"Lista actualizada: {temperaturas}\")\n",
        "\n",
        "# Invertir orden\n",
        "temperaturas.reverse()\n",
        "print(f\"Lista invertida: {temperaturas}\")\n",
        "\n",
        "# Ordenar de mayor a menor\n",
        "temperaturas.sort(reverse=True)\n",
        "print(f\"Lista ordenada (mayor a menor): {temperaturas}\")"
      ]
    },
    {
      "cell_type": "markdown",
      "metadata": {
        "id": "eivmqySgM_Nh"
      },
      "source": [
        "## Ejercicios Básicos Propuestos\n",
        "\n"
      ]
    },
    {
      "cell_type": "markdown",
      "source": [
        "### **Ejercicio 1:** Crear una lista vacía de tareas pendientes, agregar 5 tareas con append(), y eliminar la tarea del medio con remove()."
      ],
      "metadata": {
        "id": "yNXp6WGTRROU"
      }
    },
    {
      "cell_type": "code",
      "execution_count": null,
      "metadata": {
        "id": "crdV4P5gM_Nh"
      },
      "outputs": [],
      "source": [
        "# Tu código aquí\n"
      ]
    },
    {
      "cell_type": "markdown",
      "metadata": {
        "id": "IdZtth45M_Nh"
      },
      "source": [
        "### **Ejercicio 2:** Crear una lista de edades desordenadas, insertar una nueva edad en la tercera posición, y ordenar la lista de menor a mayor."
      ]
    },
    {
      "cell_type": "code",
      "execution_count": null,
      "metadata": {
        "id": "3HoraL-8M_Nh"
      },
      "outputs": [],
      "source": [
        "# Tu código aquí\n"
      ]
    },
    {
      "cell_type": "markdown",
      "metadata": {
        "id": "SyezgplSM_Nh"
      },
      "source": [
        "### **Ejercicio 3:** Crear una lista de precios, eliminar el primer precio con pop(0), invertir la lista y ordenarla de forma descendente."
      ]
    },
    {
      "cell_type": "code",
      "execution_count": null,
      "metadata": {
        "id": "AJ-k0jBhM_Ni"
      },
      "outputs": [],
      "source": [
        "# Tu código aquí\n"
      ]
    },
    {
      "cell_type": "markdown",
      "source": [
        "# 3. Caso de Uso: 🎯 Sistema de Gestión de Inventario de Librería"
      ],
      "metadata": {
        "id": "S8NIYRx0Oxi5"
      }
    },
    {
      "cell_type": "markdown",
      "source": [
        "**Contexto:** Eres el encargado de una pequeña librería y necesitas crear un sistema básico para gestionar el inventario de libros y sus precios."
      ],
      "metadata": {
        "id": "zGQVuOROO5O2"
      }
    },
    {
      "cell_type": "markdown",
      "source": [
        "**Requerimientos:**\n",
        "\n",
        "1. Crear dos listas paralelas: una con nombres de libros y otra con sus precios\n",
        "2. Agregar 3 libros nuevos al inventario con sus respectivos precios\n",
        "3. Un libro se ha vendido, eliminarlo del inventario (tanto nombre como precio)\n",
        "4. Insertar un libro promocional en la segunda posición con un precio especial\n",
        "5. Ordenar los libros alfabéticamente (manteniendo la correspondencia con los precios)\n",
        "6. Mostrar el libro más caro y el más barato\n",
        "7. Calcular el precio promedio de todos los libros\n",
        "8. Mostrar el inventario final con el formato: \"Libro: [nombre] - Precio: $[precio]\""
      ],
      "metadata": {
        "id": "Lwpxo4IQO2JY"
      }
    },
    {
      "cell_type": "markdown",
      "metadata": {
        "id": "yqFwusLpM_Ni"
      },
      "source": [
        "\n",
        "**Datos iniciales:**\n",
        "- Libros: [\"Don Quijote\", \"Cien años de soledad\", \"El principito\"]\n",
        "- Precios: [45.50, 38.00, 25.75]\n",
        "\n",
        "**Libros a agregar:**\n",
        "- \"1984\" - $32.00\n",
        "- \"Orgullo y prejuicio\" - $28.50\n",
        "- \"Crimen y castigo\" - $42.00\n",
        "\n",
        "**Libro vendido:** \"El principito\"\n",
        "\n",
        "**Libro promocional a insertar:** \"Harry Potter\" - $15.99\n",
        "\n"
      ]
    },
    {
      "cell_type": "markdown",
      "source": [
        "## Pistas:\n",
        "\n"
      ],
      "metadata": {
        "id": "Of8T_dLLNe3S"
      }
    },
    {
      "cell_type": "markdown",
      "source": [
        "- Usa `append()` para agregar libros\n",
        "- Usa `index()` para encontrar la posición de un libro antes de eliminarlo\n",
        "- Usa `remove()` y `pop()` para eliminar elementos\n",
        "- Usa `insert()` para el libro promocional\n",
        "- Para ordenar manteniendo correspondencia, investiga sobre `zip()` y listas de tuplas\n",
        "- Usa `max()` y `min()` para encontrar precios extremos\n",
        "- Usa `sum()` y `len()` para calcular el promedio"
      ],
      "metadata": {
        "id": "UTP5nX8jPgOg"
      }
    },
    {
      "cell_type": "code",
      "execution_count": 1,
      "metadata": {
        "id": "gqb9Hk3PM_Ni"
      },
      "outputs": [],
      "source": [
        "# Escribe tu código aquí"
      ]
    }
  ],
  "metadata": {
    "kernelspec": {
      "display_name": "Python 3",
      "language": "python",
      "name": "python3"
    },
    "language_info": {
      "codemirror_mode": {
        "name": "ipython",
        "version": 3
      },
      "file_extension": ".py",
      "mimetype": "text/x-python",
      "name": "python",
      "nbconvert_exporter": "python",
      "pygments_lexer": "ipython3",
      "version": "3.8.0"
    },
    "colab": {
      "provenance": []
    }
  },
  "nbformat": 4,
  "nbformat_minor": 0
}